{
 "cells": [
  {
   "cell_type": "markdown",
   "metadata": {},
   "source": [
    "#  Processing and Loading Yelp's Data"
   ]
  },
  {
   "cell_type": "code",
   "execution_count": 9,
   "metadata": {
    "collapsed": false
   },
   "outputs": [
    {
     "name": "stderr",
     "output_type": "stream",
     "text": [
      "/Users/chenbo/anaconda/lib/python3.6/site-packages/IPython/core/interactiveshell.py:2881: FutureWarning: \n",
      "mpl_style had been deprecated and will be removed in a future version.\n",
      "Use `matplotlib.pyplot.style.use` instead.\n",
      "\n",
      "  exec(code_obj, self.user_global_ns, self.user_ns)\n"
     ]
    }
   ],
   "source": [
    "import numpy as np\n",
    "import pandas as pd\n",
    "import matplotlib.pyplot as plt\n",
    "from pandas import Series, DataFrame\n",
    "from catboost import CatBoostClassifier\n",
    "\n",
    "%matplotlib inline\n",
    "pd.options.display.mpl_style = 'default'\n",
    "\n",
    "import os\n",
    "from IPython.core.display import HTML\n",
    "\n",
    "import json\n",
    "import numpy\n",
    "from pandas.io.json import json_normalize\n",
    "from time import time\n",
    "%matplotlib inline\n",
    "\n",
    "from sklearn import svm, datasets\n",
    "from sklearn.metrics import roc_curve, auc\n",
    "from sklearn.model_selection import train_test_split\n",
    "from sklearn.preprocessing import label_binarize\n",
    "from sklearn.multiclass import OneVsRestClassifier\n",
    "from scipy import interp\n"
   ]
  },
  {
   "cell_type": "markdown",
   "metadata": {
    "collapsed": true
   },
   "source": [
    "<h3> YELP DATASET CHALLENGE URL</h3>\n",
    "<br />\n",
    "This link gives you an idea of the structure of Data Schema: all JSON files with each line as a distinct record\n",
    "<br />\n",
    "http://www.yelp.com/dataset_challenge\n",
    "<br />\n",
    "There are 5 tables:\n",
    "<ol>\n",
    "<li>Business (42,153 records)</li>\n",
    "<li>Review (1,125,458 records)</li>\n",
    "<li>Check ins (31,617 records)</li>\n",
    "<li>Tips (403,210 records)</li>\n",
    "<li>Users (252,898 records)</li>\n",
    "</ol>\n",
    "<br />\n",
    "Further down this notebook, we will see that the Reviews table is a 1GB file that's not easy to load directly into IPython RAM, so we'll chop it up into 4 pieces along the way of our cleaning process."
   ]
  },
  {
   "cell_type": "code",
   "execution_count": 2,
   "metadata": {
    "collapsed": false
   },
   "outputs": [
    {
     "data": {
      "text/html": [
       "<iframe src=\"http://www.yelp.com/dataset_challenge\" width=\"1100px\" height=\"333px\">"
      ],
      "text/plain": [
       "<IPython.core.display.HTML object>"
      ]
     },
     "execution_count": 2,
     "metadata": {},
     "output_type": "execute_result"
    }
   ],
   "source": [
    "YELP_DATACHALLENGE_URL = 'http://www.yelp.com/dataset_challenge'\n",
    "tag = '<iframe src=\"{0}\" width=\"1100px\" height=\"333px\">'.format(YELP_DATACHALLENGE_URL)\n",
    "HTML(tag)"
   ]
  },
  {
   "cell_type": "markdown",
   "metadata": {},
   "source": [
    "<h3> Slight Data Wrangling </h3>\n",
    "<br />\n",
    "We need to clean the given files to be interpretable by Panda's JSON function, so we have to\n",
    "<ol>\n",
    "<li> Add a comma after every line of each file</li>\n",
    "<li> Remove the last comma of each file</li>\n",
    "<li> Prepend '[' as the first character of each file</li>\n",
    "<li> Append ']' as the last character of each file</li>\n",
    "</ol>\n",
    "<br />\n",
    "Just make sure you have enough disk space and choose both your raw and clean data folders to store them in."
   ]
  },
  {
   "cell_type": "markdown",
   "metadata": {},
   "source": [
    "<h3>Loading a file from your clean data directory</h3>"
   ]
  },
  {
   "cell_type": "code",
   "execution_count": 27,
   "metadata": {
    "collapsed": false
   },
   "outputs": [
    {
     "name": "stdout",
     "output_type": "stream",
     "text": [
      "File processed: business    |  Time taken: 37.07s\n"
     ]
    }
   ],
   "source": [
    "def format_to_df(filename):\n",
    "    output_json = []\n",
    "    for line in open(filename):\n",
    "        output_json.append(json.loads(line))\n",
    "    output_df = json_normalize(output_json)\n",
    "    return output_df\n",
    "\n",
    "file_string_1 = \"/Users/chenbo/Desktop/UCL/Dissertation/yelp_dataset_challenge_academic_dataset/yelp_academic_dataset_\"\n",
    "file_string_2 = \".json\"\n",
    "\n",
    "file_types = ['business']\n",
    "\n",
    "df_dict = {}\n",
    "\n",
    "for file_type in file_types:\n",
    "    checkpoint = time()\n",
    "    df_dict[file_type] = format_to_df(file_string_1 + file_type + file_string_2)\n",
    "    print(\"File processed: {0:<10}  |  Time taken: {1:.2f}s\".format(file_type, time() - checkpoint))\n",
    "    checkpoint = time()"
   ]
  },
  {
   "cell_type": "markdown",
   "metadata": {},
   "source": [
    "save the processed data to csv format"
   ]
  },
  {
   "cell_type": "code",
   "execution_count": null,
   "metadata": {
    "collapsed": false
   },
   "outputs": [],
   "source": [
    "for file_type in file_types:\n",
    "    checkpoint = time()\n",
    "    df_dict[file_type].to_csv(\"yelp_academic_dataset_\" + file_type + '.csv')\n",
    "    print(\"File processed: {0:<10}  |  Time taken: {1:.2f}s\".format(file_type, time() - checkpoint))\n",
    "    checkpoint = time()"
   ]
  },
  {
   "cell_type": "code",
   "execution_count": 10,
   "metadata": {
    "collapsed": false
   },
   "outputs": [
    {
     "name": "stderr",
     "output_type": "stream",
     "text": [
      "/Users/chenbo/anaconda/lib/python3.6/site-packages/IPython/core/interactiveshell.py:2717: DtypeWarning: Columns (15,16,20,22,23,24,25,26,27,28,57,58) have mixed types. Specify dtype option on import or set low_memory=False.\n",
      "  interactivity=interactivity, compiler=compiler, result=result)\n"
     ]
    }
   ],
   "source": [
    "biz = pd.read_csv(\"yelp_academic_dataset_business.csv\")\n"
   ]
  },
  {
   "cell_type": "code",
   "execution_count": 50,
   "metadata": {
    "collapsed": true
   },
   "outputs": [],
   "source": [
    "biz_ = biz[['stars','review_count','open']]"
   ]
  },
  {
   "cell_type": "code",
   "execution_count": 476,
   "metadata": {
    "collapsed": false,
    "scrolled": true
   },
   "outputs": [
    {
     "data": {
      "text/html": [
       "<div>\n",
       "<table border=\"1\" class=\"dataframe\">\n",
       "  <thead>\n",
       "    <tr style=\"text-align: right;\">\n",
       "      <th>open</th>\n",
       "      <th>False</th>\n",
       "      <th>True</th>\n",
       "    </tr>\n",
       "    <tr>\n",
       "      <th>stars</th>\n",
       "      <th></th>\n",
       "      <th></th>\n",
       "    </tr>\n",
       "  </thead>\n",
       "  <tbody>\n",
       "    <tr>\n",
       "      <th>1.0</th>\n",
       "      <td>90</td>\n",
       "      <td>982</td>\n",
       "    </tr>\n",
       "    <tr>\n",
       "      <th>1.5</th>\n",
       "      <td>228</td>\n",
       "      <td>1662</td>\n",
       "    </tr>\n",
       "    <tr>\n",
       "      <th>2.0</th>\n",
       "      <td>499</td>\n",
       "      <td>3278</td>\n",
       "    </tr>\n",
       "    <tr>\n",
       "      <th>2.5</th>\n",
       "      <td>1242</td>\n",
       "      <td>6205</td>\n",
       "    </tr>\n",
       "    <tr>\n",
       "      <th>3.0</th>\n",
       "      <td>2099</td>\n",
       "      <td>8924</td>\n",
       "    </tr>\n",
       "    <tr>\n",
       "      <th>3.5</th>\n",
       "      <td>3029</td>\n",
       "      <td>13595</td>\n",
       "    </tr>\n",
       "    <tr>\n",
       "      <th>4.0</th>\n",
       "      <td>2737</td>\n",
       "      <td>14719</td>\n",
       "    </tr>\n",
       "    <tr>\n",
       "      <th>4.5</th>\n",
       "      <td>1730</td>\n",
       "      <td>11918</td>\n",
       "    </tr>\n",
       "    <tr>\n",
       "      <th>5.0</th>\n",
       "      <td>1036</td>\n",
       "      <td>11928</td>\n",
       "    </tr>\n",
       "  </tbody>\n",
       "</table>\n",
       "</div>"
      ],
      "text/plain": [
       "open   False  True \n",
       "stars              \n",
       "1.0       90    982\n",
       "1.5      228   1662\n",
       "2.0      499   3278\n",
       "2.5     1242   6205\n",
       "3.0     2099   8924\n",
       "3.5     3029  13595\n",
       "4.0     2737  14719\n",
       "4.5     1730  11918\n",
       "5.0     1036  11928"
      ]
     },
     "execution_count": 476,
     "metadata": {},
     "output_type": "execute_result"
    }
   ],
   "source": [
    "pd.crosstab(biz.stars,[biz.open])"
   ]
  },
  {
   "cell_type": "code",
   "execution_count": 14,
   "metadata": {
    "collapsed": false
   },
   "outputs": [
    {
     "data": {
      "text/plain": [
       "\"\\ntrace1 = go.Bar(\\n    x=stars,\\n    y=y1,\\n    name='Closed',\\n    marker=dict(\\n        color='rgb(55, 83, 109)'\\n    )\\n)\\ntrace2 = go.Bar(\\n    x=stars,\\n    y=y2,\\n    name='Open',\\n    marker=dict(\\n        color='rgb(26, 118, 255)'\\n    )\\n)\\ndata = [trace1, trace2]\\nlayout = go.Layout(\\n    title='Stars Histogram of Open/Closed Business',\\n    xaxis=dict(\\n        tickfont=dict(\\n            size=14,\\n            color='rgb(107, 107, 107)'\\n        )\\n    ),\\n    yaxis=dict(\\n        title='# of business',\\n        titlefont=dict(\\n            size=16,\\n            color='rgb(107, 107, 107)'\\n        ),\\n        tickfont=dict(\\n            size=14,\\n            color='rgb(107, 107, 107)'\\n        )\\n    ),\\n    legend=dict(\\n        x=0,\\n        y=1.0,\\n        bgcolor='rgba(255, 255, 255, 0)',\\n        bordercolor='rgba(255, 255, 255, 0)'\\n    ),\\n    barmode='group',\\n    bargap=0.15,\\n    bargroupgap=0.1\\n)\\n\\nfig = go.Figure(data=data, layout=layout)\\npy.iplot(fig, filename='style-bar')\\n\""
      ]
     },
     "execution_count": 14,
     "metadata": {},
     "output_type": "execute_result"
    }
   ],
   "source": [
    "'''\n",
    "trace1 = go.Bar(\n",
    "    x=stars,\n",
    "    y=y1,\n",
    "    name='Closed',\n",
    "    marker=dict(\n",
    "        color='rgb(55, 83, 109)'\n",
    "    )\n",
    ")\n",
    "trace2 = go.Bar(\n",
    "    x=stars,\n",
    "    y=y2,\n",
    "    name='Open',\n",
    "    marker=dict(\n",
    "        color='rgb(26, 118, 255)'\n",
    "    )\n",
    ")\n",
    "data = [trace1, trace2]\n",
    "layout = go.Layout(\n",
    "    title='Stars Histogram of Open/Closed Business',\n",
    "    xaxis=dict(\n",
    "        tickfont=dict(\n",
    "            size=14,\n",
    "            color='rgb(107, 107, 107)'\n",
    "        )\n",
    "    ),\n",
    "    yaxis=dict(\n",
    "        title='# of business',\n",
    "        titlefont=dict(\n",
    "            size=16,\n",
    "            color='rgb(107, 107, 107)'\n",
    "        ),\n",
    "        tickfont=dict(\n",
    "            size=14,\n",
    "            color='rgb(107, 107, 107)'\n",
    "        )\n",
    "    ),\n",
    "    legend=dict(\n",
    "        x=0,\n",
    "        y=1.0,\n",
    "        bgcolor='rgba(255, 255, 255, 0)',\n",
    "        bordercolor='rgba(255, 255, 255, 0)'\n",
    "    ),\n",
    "    barmode='group',\n",
    "    bargap=0.15,\n",
    "    bargroupgap=0.1\n",
    ")\n",
    "\n",
    "fig = go.Figure(data=data, layout=layout)\n",
    "py.iplot(fig, filename='style-bar')\n",
    "'''\n"
   ]
  },
  {
   "cell_type": "markdown",
   "metadata": {},
   "source": [
    "# Logistic Regression Analysis"
   ]
  },
  {
   "cell_type": "code",
   "execution_count": 423,
   "metadata": {
    "collapsed": false
   },
   "outputs": [
    {
     "data": {
      "text/html": [
       "<div>\n",
       "<table border=\"1\" class=\"dataframe\">\n",
       "  <thead>\n",
       "    <tr style=\"text-align: right;\">\n",
       "      <th></th>\n",
       "      <th>stars</th>\n",
       "      <th>review_count</th>\n",
       "    </tr>\n",
       "  </thead>\n",
       "  <tbody>\n",
       "    <tr>\n",
       "      <th>count</th>\n",
       "      <td>85901.000000</td>\n",
       "      <td>85901.000000</td>\n",
       "    </tr>\n",
       "    <tr>\n",
       "      <th>mean</th>\n",
       "      <td>3.694852</td>\n",
       "      <td>34.352359</td>\n",
       "    </tr>\n",
       "    <tr>\n",
       "      <th>std</th>\n",
       "      <td>0.946045</td>\n",
       "      <td>108.677591</td>\n",
       "    </tr>\n",
       "    <tr>\n",
       "      <th>min</th>\n",
       "      <td>1.000000</td>\n",
       "      <td>3.000000</td>\n",
       "    </tr>\n",
       "    <tr>\n",
       "      <th>25%</th>\n",
       "      <td>3.000000</td>\n",
       "      <td>5.000000</td>\n",
       "    </tr>\n",
       "    <tr>\n",
       "      <th>50%</th>\n",
       "      <td>4.000000</td>\n",
       "      <td>10.000000</td>\n",
       "    </tr>\n",
       "    <tr>\n",
       "      <th>75%</th>\n",
       "      <td>4.500000</td>\n",
       "      <td>26.000000</td>\n",
       "    </tr>\n",
       "    <tr>\n",
       "      <th>max</th>\n",
       "      <td>5.000000</td>\n",
       "      <td>6200.000000</td>\n",
       "    </tr>\n",
       "  </tbody>\n",
       "</table>\n",
       "</div>"
      ],
      "text/plain": [
       "              stars  review_count\n",
       "count  85901.000000  85901.000000\n",
       "mean       3.694852     34.352359\n",
       "std        0.946045    108.677591\n",
       "min        1.000000      3.000000\n",
       "25%        3.000000      5.000000\n",
       "50%        4.000000     10.000000\n",
       "75%        4.500000     26.000000\n",
       "max        5.000000   6200.000000"
      ]
     },
     "execution_count": 423,
     "metadata": {},
     "output_type": "execute_result"
    }
   ],
   "source": [
    "biz_.describe()"
   ]
  },
  {
   "cell_type": "code",
   "execution_count": 52,
   "metadata": {
    "collapsed": false
   },
   "outputs": [],
   "source": [
    "dummy_= pd.get_dummies(biz_['stars'], prefix='stars')"
   ]
  },
  {
   "cell_type": "code",
   "execution_count": 53,
   "metadata": {
    "collapsed": false
   },
   "outputs": [
    {
     "data": {
      "text/html": [
       "<div>\n",
       "<table border=\"1\" class=\"dataframe\">\n",
       "  <thead>\n",
       "    <tr style=\"text-align: right;\">\n",
       "      <th></th>\n",
       "      <th>stars_1.0</th>\n",
       "      <th>stars_1.5</th>\n",
       "      <th>stars_2.0</th>\n",
       "      <th>stars_2.5</th>\n",
       "      <th>stars_3.0</th>\n",
       "      <th>stars_3.5</th>\n",
       "      <th>stars_4.0</th>\n",
       "      <th>stars_4.5</th>\n",
       "      <th>stars_5.0</th>\n",
       "    </tr>\n",
       "  </thead>\n",
       "  <tbody>\n",
       "    <tr>\n",
       "      <th>0</th>\n",
       "      <td>0</td>\n",
       "      <td>0</td>\n",
       "      <td>0</td>\n",
       "      <td>0</td>\n",
       "      <td>0</td>\n",
       "      <td>1</td>\n",
       "      <td>0</td>\n",
       "      <td>0</td>\n",
       "      <td>0</td>\n",
       "    </tr>\n",
       "    <tr>\n",
       "      <th>1</th>\n",
       "      <td>0</td>\n",
       "      <td>0</td>\n",
       "      <td>0</td>\n",
       "      <td>0</td>\n",
       "      <td>1</td>\n",
       "      <td>0</td>\n",
       "      <td>0</td>\n",
       "      <td>0</td>\n",
       "      <td>0</td>\n",
       "    </tr>\n",
       "    <tr>\n",
       "      <th>2</th>\n",
       "      <td>0</td>\n",
       "      <td>0</td>\n",
       "      <td>0</td>\n",
       "      <td>1</td>\n",
       "      <td>0</td>\n",
       "      <td>0</td>\n",
       "      <td>0</td>\n",
       "      <td>0</td>\n",
       "      <td>0</td>\n",
       "    </tr>\n",
       "    <tr>\n",
       "      <th>3</th>\n",
       "      <td>0</td>\n",
       "      <td>0</td>\n",
       "      <td>0</td>\n",
       "      <td>0</td>\n",
       "      <td>0</td>\n",
       "      <td>0</td>\n",
       "      <td>0</td>\n",
       "      <td>1</td>\n",
       "      <td>0</td>\n",
       "    </tr>\n",
       "    <tr>\n",
       "      <th>4</th>\n",
       "      <td>0</td>\n",
       "      <td>0</td>\n",
       "      <td>0</td>\n",
       "      <td>0</td>\n",
       "      <td>0</td>\n",
       "      <td>0</td>\n",
       "      <td>0</td>\n",
       "      <td>0</td>\n",
       "      <td>1</td>\n",
       "    </tr>\n",
       "  </tbody>\n",
       "</table>\n",
       "</div>"
      ],
      "text/plain": [
       "   stars_1.0  stars_1.5  stars_2.0  stars_2.5  stars_3.0  stars_3.5  \\\n",
       "0          0          0          0          0          0          1   \n",
       "1          0          0          0          0          1          0   \n",
       "2          0          0          0          1          0          0   \n",
       "3          0          0          0          0          0          0   \n",
       "4          0          0          0          0          0          0   \n",
       "\n",
       "   stars_4.0  stars_4.5  stars_5.0  \n",
       "0          0          0          0  \n",
       "1          0          0          0  \n",
       "2          0          0          0  \n",
       "3          0          1          0  \n",
       "4          0          0          1  "
      ]
     },
     "execution_count": 53,
     "metadata": {},
     "output_type": "execute_result"
    }
   ],
   "source": [
    "dummy_.head()"
   ]
  },
  {
   "cell_type": "code",
   "execution_count": 54,
   "metadata": {
    "collapsed": true
   },
   "outputs": [],
   "source": [
    "data = biz_[['review_count','open']].join(dummy_.ix[:, 'stars_1.5':])"
   ]
  },
  {
   "cell_type": "code",
   "execution_count": 55,
   "metadata": {
    "collapsed": false
   },
   "outputs": [],
   "source": [
    "data.review_count=data.review_count.apply(np.log)"
   ]
  },
  {
   "cell_type": "code",
   "execution_count": 56,
   "metadata": {
    "collapsed": true
   },
   "outputs": [],
   "source": [
    "data['intercept'] = 1.0"
   ]
  },
  {
   "cell_type": "code",
   "execution_count": 57,
   "metadata": {
    "collapsed": false
   },
   "outputs": [],
   "source": [
    "keep_col = list(data.columns)"
   ]
  },
  {
   "cell_type": "code",
   "execution_count": 58,
   "metadata": {
    "collapsed": false
   },
   "outputs": [],
   "source": [
    "keep_col.remove('open')"
   ]
  },
  {
   "cell_type": "code",
   "execution_count": 60,
   "metadata": {
    "collapsed": false
   },
   "outputs": [],
   "source": [
    "import statsmodels.discrete.discrete_model as sm\n",
    "logit = sm.Logit(data.open, data[keep_col])"
   ]
  },
  {
   "cell_type": "code",
   "execution_count": 61,
   "metadata": {
    "collapsed": false
   },
   "outputs": [
    {
     "name": "stdout",
     "output_type": "stream",
     "text": [
      "Optimization terminated successfully.\n",
      "         Current function value: 0.411024\n",
      "         Iterations 6\n"
     ]
    }
   ],
   "source": [
    "result = logit.fit()"
   ]
  },
  {
   "cell_type": "code",
   "execution_count": 63,
   "metadata": {
    "collapsed": false,
    "scrolled": false
   },
   "outputs": [
    {
     "data": {
      "text/html": [
       "<table class=\"simpletable\">\n",
       "<caption>Logit Regression Results</caption>\n",
       "<tr>\n",
       "  <th>Dep. Variable:</th>    <td>open status</td>   <th>  No. Observations:  </th>   <td> 85901</td>  \n",
       "</tr>\n",
       "<tr>\n",
       "  <th>Model:</th>               <td>Logit</td>      <th>  Df Residuals:      </th>   <td> 85891</td>  \n",
       "</tr>\n",
       "<tr>\n",
       "  <th>Method:</th>               <td>MLE</td>       <th>  Df Model:          </th>   <td>     9</td>  \n",
       "</tr>\n",
       "<tr>\n",
       "  <th>Date:</th>          <td>Sun, 03 Sep 2017</td> <th>  Pseudo R-squ.:     </th>   <td>0.01845</td> \n",
       "</tr>\n",
       "<tr>\n",
       "  <th>Time:</th>              <td>17:45:12</td>     <th>  Log-Likelihood:    </th>  <td> -35307.</td> \n",
       "</tr>\n",
       "<tr>\n",
       "  <th>converged:</th>           <td>True</td>       <th>  LL-Null:           </th>  <td> -35971.</td> \n",
       "</tr>\n",
       "<tr>\n",
       "  <th> </th>                      <td> </td>        <th>  LLR p-value:       </th> <td>4.625e-280</td>\n",
       "</tr>\n",
       "</table>\n",
       "<table class=\"simpletable\">\n",
       "<tr>\n",
       "        <td></td>          <th>coef</th>     <th>std err</th>      <th>z</th>      <th>P>|z|</th> <th>[95.0% Conf. Int.]</th> \n",
       "</tr>\n",
       "<tr>\n",
       "  <th>review_count</th> <td>    0.1558</td> <td>    0.009</td> <td>   17.959</td> <td> 0.000</td> <td>    0.139     0.173</td>\n",
       "</tr>\n",
       "<tr>\n",
       "  <th>stars_1.5</th>    <td>   -0.4773</td> <td>    0.131</td> <td>   -3.645</td> <td> 0.000</td> <td>   -0.734    -0.221</td>\n",
       "</tr>\n",
       "<tr>\n",
       "  <th>stars_2.0</th>    <td>   -0.6023</td> <td>    0.120</td> <td>   -5.006</td> <td> 0.000</td> <td>   -0.838    -0.366</td>\n",
       "</tr>\n",
       "<tr>\n",
       "  <th>stars_2.5</th>    <td>   -0.8906</td> <td>    0.115</td> <td>   -7.770</td> <td> 0.000</td> <td>   -1.115    -0.666</td>\n",
       "</tr>\n",
       "<tr>\n",
       "  <th>stars_3.0</th>    <td>   -1.1044</td> <td>    0.113</td> <td>   -9.761</td> <td> 0.000</td> <td>   -1.326    -0.883</td>\n",
       "</tr>\n",
       "<tr>\n",
       "  <th>stars_3.5</th>    <td>   -1.0625</td> <td>    0.112</td> <td>   -9.456</td> <td> 0.000</td> <td>   -1.283    -0.842</td>\n",
       "</tr>\n",
       "<tr>\n",
       "  <th>stars_4.0</th>    <td>   -0.9084</td> <td>    0.113</td> <td>   -8.066</td> <td> 0.000</td> <td>   -1.129    -0.688</td>\n",
       "</tr>\n",
       "<tr>\n",
       "  <th>stars_4.5</th>    <td>   -0.6218</td> <td>    0.113</td> <td>   -5.480</td> <td> 0.000</td> <td>   -0.844    -0.399</td>\n",
       "</tr>\n",
       "<tr>\n",
       "  <th>stars_5.0</th>    <td>   -0.0060</td> <td>    0.115</td> <td>   -0.053</td> <td> 0.958</td> <td>   -0.231     0.219</td>\n",
       "</tr>\n",
       "<tr>\n",
       "  <th>intercept</th>    <td>    2.1517</td> <td>    0.111</td> <td>   19.395</td> <td> 0.000</td> <td>    1.934     2.369</td>\n",
       "</tr>\n",
       "</table>"
      ],
      "text/plain": [
       "<class 'statsmodels.iolib.summary.Summary'>\n",
       "\"\"\"\n",
       "                           Logit Regression Results                           \n",
       "==============================================================================\n",
       "Dep. Variable:            open status   No. Observations:                85901\n",
       "Model:                          Logit   Df Residuals:                    85891\n",
       "Method:                           MLE   Df Model:                            9\n",
       "Date:                Sun, 03 Sep 2017   Pseudo R-squ.:                 0.01845\n",
       "Time:                        17:45:12   Log-Likelihood:                -35307.\n",
       "converged:                       True   LL-Null:                       -35971.\n",
       "                                        LLR p-value:                4.625e-280\n",
       "================================================================================\n",
       "                   coef    std err          z      P>|z|      [95.0% Conf. Int.]\n",
       "--------------------------------------------------------------------------------\n",
       "review_count     0.1558      0.009     17.959      0.000         0.139     0.173\n",
       "stars_1.5       -0.4773      0.131     -3.645      0.000        -0.734    -0.221\n",
       "stars_2.0       -0.6023      0.120     -5.006      0.000        -0.838    -0.366\n",
       "stars_2.5       -0.8906      0.115     -7.770      0.000        -1.115    -0.666\n",
       "stars_3.0       -1.1044      0.113     -9.761      0.000        -1.326    -0.883\n",
       "stars_3.5       -1.0625      0.112     -9.456      0.000        -1.283    -0.842\n",
       "stars_4.0       -0.9084      0.113     -8.066      0.000        -1.129    -0.688\n",
       "stars_4.5       -0.6218      0.113     -5.480      0.000        -0.844    -0.399\n",
       "stars_5.0       -0.0060      0.115     -0.053      0.958        -0.231     0.219\n",
       "intercept        2.1517      0.111     19.395      0.000         1.934     2.369\n",
       "================================================================================\n",
       "\"\"\""
      ]
     },
     "execution_count": 63,
     "metadata": {},
     "output_type": "execute_result"
    }
   ],
   "source": [
    "result.summary(yname='open status',)"
   ]
  },
  {
   "cell_type": "code",
   "execution_count": 471,
   "metadata": {
    "collapsed": false
   },
   "outputs": [
    {
     "data": {
      "text/plain": [
       "review_count    1.187289\n",
       "stars_1.5       0.644452\n",
       "stars_2.0       0.498443\n",
       "stars_2.5       0.362042\n",
       "stars_3.0       0.306777\n",
       "stars_3.5       0.322551\n",
       "stars_4.0       0.372420\n",
       "stars_4.5       0.495534\n",
       "stars_5.0       0.942849\n",
       "intercept       1.543588\n",
       "dtype: float64"
      ]
     },
     "execution_count": 471,
     "metadata": {},
     "output_type": "execute_result"
    }
   ],
   "source": [
    "# odds ratios only\n",
    "np.exp(result.params)"
   ]
  },
  {
   "cell_type": "code",
   "execution_count": 251,
   "metadata": {
    "collapsed": true
   },
   "outputs": [],
   "source": [
    "def cartesian(arrays, out=None):\n",
    "\n",
    "    arrays = [np.asarray(x) for x in arrays]\n",
    "    dtype = arrays[0].dtype\n",
    "\n",
    "    n = np.prod([x.size for x in arrays])\n",
    "    if out is None:\n",
    "        out = np.zeros([n, len(arrays)], dtype=dtype)\n",
    "\n",
    "    m = n / arrays[0].size\n",
    "    out[:,0] = np.repeat(arrays[0], m)\n",
    "    if arrays[1:]:\n",
    "        cartesian(arrays[1:], out=out[0:m,1:])\n",
    "        for j in range(1, arrays[0].size):\n",
    "            out[j*m:(j+1)*m,1:] = out[0:m,1:]\n",
    "    return out"
   ]
  },
  {
   "cell_type": "code",
   "execution_count": 412,
   "metadata": {
    "collapsed": true
   },
   "outputs": [],
   "source": [
    "log_reviewcounts = np.linspace(data['review_count'].min(), data['review_count'].max(), 10)"
   ]
  },
  {
   "cell_type": "code",
   "execution_count": 413,
   "metadata": {
    "collapsed": false
   },
   "outputs": [
    {
     "name": "stderr",
     "output_type": "stream",
     "text": [
      "/Users/chenbo/anaconda/lib/python3.6/site-packages/ipykernel/__main__.py:13: VisibleDeprecationWarning:\n",
      "\n",
      "using a non-integer number instead of an integer will result in an error in the future\n",
      "\n",
      "/Users/chenbo/anaconda/lib/python3.6/site-packages/ipykernel/__main__.py:15: VisibleDeprecationWarning:\n",
      "\n",
      "using a non-integer number instead of an integer will result in an error in the future\n",
      "\n"
     ]
    }
   ],
   "source": [
    "combos = pd.DataFrame(cartesian([log_reviewcounts, [1.0,1.5,2.0,2.5,3.0,3.5, 4.0,4.5,5.0], [1.]]))"
   ]
  },
  {
   "cell_type": "code",
   "execution_count": 414,
   "metadata": {
    "collapsed": true
   },
   "outputs": [],
   "source": [
    "combos.columns = ['log_reviewcounts', 'stars', 'intercept']\n",
    "dummy_ranks = pd.get_dummies(combos['stars'], prefix='stars')\n",
    "combos = combos.join(dummy_ranks.ix[:, 'stars_1.0':])\n",
    "x=list(combos.columns)\n",
    "x.remove('stars')\n",
    "combos['open'] = result.predict(combos[x])\n",
    "grouped = pd.pivot_table(combos, values=['open'], index=['log_reviewcounts','stars'],\n",
    "                            aggfunc=np.mean)"
   ]
  },
  {
   "cell_type": "code",
   "execution_count": 421,
   "metadata": {
    "collapsed": false
   },
   "outputs": [
    {
     "data": {
      "image/png": "[encoded data removed]",
      "text/plain": [
       "<matplotlib.figure.Figure at 0x110819f28>"
      ]
     },
     "metadata": {},
     "output_type": "display_data"
    }
   ],
   "source": [
    "isolate_and_plot('log_reviewcounts')"
   ]
  },
  {
   "cell_type": "code",
   "execution_count": 15,
   "metadata": {
    "collapsed": false
   },
   "outputs": [
    {
     "data": {
      "text/plain": [
       "\"\\nimport plotly.plotly as py\\nimport plotly.graph_objs as go\\npy.sign_in(username='chenbotang', api_key='sb4wRSQGTAuEGa7z8nlo')\\n\\nimport plotly.plotly as py\\nimport plotly.graph_objs as go\\n\\ndata = [go.Bar(\\n            x=x.index,\\n            y=x.values,\\n            marker=dict(\\n            color=['rgba(55, 128, 191, 0.7)',\\n              'rgba(55, 128, 191, 0.7)',\\n              'rgba(55, 128, 191, 0.7)',\\n              'rgba(55, 128, 191, 0.7)',\\n              'rgba(55, 128, 191, 0.7)',\\n              'rgba(55, 128, 191, 0.7)',\\n               'rgba(55, 128, 191, 0.7)',\\n                'rgba(219, 64, 82, 0.7)',\\n               'rgba(55, 128, 191, 0.7)',\\n                \\n               'rgba(55, 128, 191, 0.7)',\\n                'rgba(55, 128, 191, 0.7)',\\n                'rgba(55, 128, 191, 0.7)',\\n                'rgba(55, 128, 191, 0.7)',\\n                'rgba(55, 128, 191, 0.7)',\\n                'rgba(55, 128, 191, 0.7)',\\n                'rgba(55, 128, 191, 0.7)',\\n                'rgba(219, 64, 82, 0.7)',\\n                'rgba(55, 128, 191, 0.7)',\\n                'rgba(55, 128, 191, 0.7)',\\n                'rgba(55, 128, 191, 0.7)'\\n               \\n               \\n              ])\\n           \\n    )]\\n\\nlayout = go.Layout(\\n    title='Top 20 city with most businesses',\\n)\\n\\nfig = go.Figure(data=data, layout=layout)\\n\\npy.iplot(fig, filename='basic-bar')\\n\""
      ]
     },
     "execution_count": 15,
     "metadata": {},
     "output_type": "execute_result"
    }
   ],
   "source": [
    "'''\n",
    "import plotly.plotly as py\n",
    "import plotly.graph_objs as go\n",
    "py.sign_in(username='chenbotang', api_key='sb4wRSQGTAuEGa7z8nlo')\n",
    "\n",
    "import plotly.plotly as py\n",
    "import plotly.graph_objs as go\n",
    "\n",
    "data = [go.Bar(\n",
    "            x=x.index,\n",
    "            y=x.values,\n",
    "            marker=dict(\n",
    "            color=['rgba(55, 128, 191, 0.7)',\n",
    "              'rgba(55, 128, 191, 0.7)',\n",
    "              'rgba(55, 128, 191, 0.7)',\n",
    "              'rgba(55, 128, 191, 0.7)',\n",
    "              'rgba(55, 128, 191, 0.7)',\n",
    "              'rgba(55, 128, 191, 0.7)',\n",
    "               'rgba(55, 128, 191, 0.7)',\n",
    "                'rgba(219, 64, 82, 0.7)',\n",
    "               'rgba(55, 128, 191, 0.7)',\n",
    "                \n",
    "               'rgba(55, 128, 191, 0.7)',\n",
    "                'rgba(55, 128, 191, 0.7)',\n",
    "                'rgba(55, 128, 191, 0.7)',\n",
    "                'rgba(55, 128, 191, 0.7)',\n",
    "                'rgba(55, 128, 191, 0.7)',\n",
    "                'rgba(55, 128, 191, 0.7)',\n",
    "                'rgba(55, 128, 191, 0.7)',\n",
    "                'rgba(219, 64, 82, 0.7)',\n",
    "                'rgba(55, 128, 191, 0.7)',\n",
    "                'rgba(55, 128, 191, 0.7)',\n",
    "                'rgba(55, 128, 191, 0.7)'\n",
    "               \n",
    "               \n",
    "              ])\n",
    "           \n",
    "    )]\n",
    "\n",
    "layout = go.Layout(\n",
    "    title='Top 20 city with most businesses',\n",
    ")\n",
    "\n",
    "fig = go.Figure(data=data, layout=layout)\n",
    "\n",
    "py.iplot(fig, filename='basic-bar')\n",
    "'''\n"
   ]
  },
  {
   "cell_type": "markdown",
   "metadata": {},
   "source": [
    "# Select City"
   ]
  },
  {
   "cell_type": "code",
   "execution_count": 5,
   "metadata": {
    "collapsed": true
   },
   "outputs": [],
   "source": [
    "def city_select(city,data):\n",
    "    new_data =data[data.city==city]\n",
    "    return new_data"
   ]
  },
  {
   "cell_type": "code",
   "execution_count": 6,
   "metadata": {
    "collapsed": true
   },
   "outputs": [],
   "source": [
    "Ednbrugh = city_select('Edinburgh',biz)"
   ]
  },
  {
   "cell_type": "markdown",
   "metadata": {},
   "source": [
    "# Select Business Type"
   ]
  },
  {
   "cell_type": "code",
   "execution_count": 4,
   "metadata": {
    "collapsed": true
   },
   "outputs": [],
   "source": [
    "def business_type(business_type,data):\n",
    "    a=[]\n",
    "    for t in data['categories']:\n",
    "        a.append(str(t).find(business_type))\n",
    "    data['filter'] = pd.Series(a, index=data.index)\n",
    "    output = data.drop(data[data['filter']<0].index)\n",
    "    \n",
    "    del output['filter']\n",
    "    return output\n",
    "    "
   ]
  },
  {
   "cell_type": "code",
   "execution_count": 5,
   "metadata": {
    "collapsed": false
   },
   "outputs": [
    {
     "name": "stderr",
     "output_type": "stream",
     "text": [
      "/Users/chenbo/anaconda/lib/python3.6/site-packages/ipykernel/__main__.py:5: SettingWithCopyWarning: \n",
      "A value is trying to be set on a copy of a slice from a DataFrame.\n",
      "Try using .loc[row_indexer,col_indexer] = value instead\n",
      "\n",
      "See the caveats in the documentation: http://pandas.pydata.org/pandas-docs/stable/indexing.html#indexing-view-versus-copy\n"
     ]
    }
   ],
   "source": [
    "ka_re = business_type('Restaurants',ka)"
   ]
  },
  {
   "cell_type": "code",
   "execution_count": 202,
   "metadata": {
    "collapsed": true
   },
   "outputs": [],
   "source": [
    "# save the data as csv\n",
    "ed.to_csv('ed_total.csv')"
   ]
  },
  {
   "cell_type": "code",
   "execution_count": 18,
   "metadata": {
    "collapsed": true
   },
   "outputs": [],
   "source": [
    "ED = pd.read_csv('ed_total.csv')\n"
   ]
  },
  {
   "cell_type": "code",
   "execution_count": 3,
   "metadata": {
    "collapsed": false
   },
   "outputs": [
    {
     "data": {
      "text/plain": [
       "True     2790\n",
       "False     570\n",
       "Name: open, dtype: int64"
      ]
     },
     "execution_count": 3,
     "metadata": {},
     "output_type": "execute_result"
    }
   ],
   "source": [
    "ED.open.value_counts()"
   ]
  },
  {
   "cell_type": "code",
   "execution_count": 165,
   "metadata": {
    "collapsed": false
   },
   "outputs": [
    {
     "data": {
      "image/png": "[encoded data removed]",
      "text/plain": [
       "<matplotlib.figure.Figure at 0x11a0e9c88>"
      ]
     },
     "metadata": {},
     "output_type": "display_data"
    }
   ],
   "source": [
    "import matplotlib.pyplot as plt\n",
    " \n",
    "# Data to plot\n",
    "labels = 'open','closed'\n",
    "sizes = [2790, 570\n",
    "        ]\n",
    "colors = ['lightskyblue','lightcoral']\n",
    "explode = (0.1, 0)  # explode 1st slice\n",
    " \n",
    "# Plot\n",
    "plt.pie(sizes, explode=explode, labels=labels, colors=colors,\n",
    "        autopct='%1.1f%%', shadow=True, startangle=140)\n",
    "\n",
    "plt.title('Property Open Status in Edinburgh') \n",
    "plt.axis('equal')\n",
    "plt.show()"
   ]
  },
  {
   "cell_type": "code",
   "execution_count": 249,
   "metadata": {
    "collapsed": false
   },
   "outputs": [
    {
     "data": {
      "text/plain": [
       "<seaborn.axisgrid.FacetGrid at 0x1975b2b70>"
      ]
     },
     "execution_count": 249,
     "metadata": {},
     "output_type": "execute_result"
    },
    {
     "data": {
      "image/png": "[encoded data removed]",
      "text/plain": [
       "<matplotlib.figure.Figure at 0x1a1f89f28>"
      ]
     },
     "metadata": {},
     "output_type": "display_data"
    }
   ],
   "source": [
    "g = sns.FacetGrid(biz, col='open')\n",
    "g.map(plt.hist, 'review_count', bins=1000)\n",
    "g.set(xlim=(0,60))"
   ]
  },
  {
   "cell_type": "markdown",
   "metadata": {},
   "source": [
    "#    Construct Network and extract properties"
   ]
  },
  {
   "cell_type": "code",
   "execution_count": 91,
   "metadata": {
    "collapsed": false
   },
   "outputs": [
    {
     "name": "stderr",
     "output_type": "stream",
     "text": [
      "/Users/chenbo/anaconda/lib/python3.6/site-packages/IPython/core/interactiveshell.py:2717: DtypeWarning: Columns (15,16,20,22,23,24,25,26,27,28,57,58) have mixed types. Specify dtype option on import or set low_memory=False.\n",
      "  interactivity=interactivity, compiler=compiler, result=result)\n",
      "/Users/chenbo/anaconda/lib/python3.6/site-packages/IPython/core/interactiveshell.py:2717: DtypeWarning: Columns (0) have mixed types. Specify dtype option on import or set low_memory=False.\n",
      "  interactivity=interactivity, compiler=compiler, result=result)\n"
     ]
    }
   ],
   "source": [
    "#loading data\n",
    "biz = pd.read_csv(\"yelp_academic_dataset_business.csv\")\n",
    "review = pd.read_csv(\"yelp_academic_dataset_review.csv\")\n",
    "user= pd.read_csv(\"yelp_academic_dataset_user.csv\")"
   ]
  },
  {
   "cell_type": "code",
   "execution_count": 92,
   "metadata": {
    "collapsed": true
   },
   "outputs": [],
   "source": [
    "# combine user and business table and filter out businesses in Edinburgh\n",
    "review_biz = review.merge(biz,on='business_id',how='left')\n",
    "review_biz_user= review_biz.merge(user,on='user_id',how='left')\n",
    "review_biz_ED = review_biz_user[review_biz_user.city =='Edinburgh']"
   ]
  },
  {
   "cell_type": "code",
   "execution_count": 96,
   "metadata": {
    "collapsed": false
   },
   "outputs": [
    {
     "name": "stderr",
     "output_type": "stream",
     "text": [
      "/Users/chenbo/anaconda/lib/python3.6/site-packages/IPython/core/interactiveshell.py:2717: DtypeWarning: Columns (14,15,28,34,35,36,37,38,39,40,54,55,56,57,58) have mixed types. Specify dtype option on import or set low_memory=False.\n",
      "  interactivity=interactivity, compiler=compiler, result=result)\n"
     ]
    }
   ],
   "source": [
    "review_biz_ED = pd.read_csv('ed_reviws.csv')"
   ]
  },
  {
   "cell_type": "code",
   "execution_count": 97,
   "metadata": {
    "collapsed": false
   },
   "outputs": [],
   "source": [
    "#filter sub networks, we have a positive, a negative , an elite and total network. \n",
    "#change the filtering conditions to get different data\n",
    "review_biz_ED =review_biz_ED[review_biz_ED.stars_x >=4]\n",
    "review_biz_ED = review_biz_ED.reset_index()"
   ]
  },
  {
   "cell_type": "markdown",
   "metadata": {},
   "source": [
    "# Calculate networks properties"
   ]
  },
  {
   "cell_type": "code",
   "execution_count": 9,
   "metadata": {
    "collapsed": false
   },
   "outputs": [],
   "source": [
    "def strip(data):\n",
    "    \n",
    "\n",
    "    dic = {}\n",
    "    for i in range (0,len(data)):\n",
    "        if type(dic.get(data.user_id[i])) is list:\n",
    "                    dic[data.user_id[i]].append(data.business_id[i])\n",
    "        else:\n",
    "                    dic[data.user_id[i]]=[]\n",
    "                    dic[data.user_id[i]].append(data.business_id[i])\n",
    "    return dic\n",
    "\n",
    "\n"
   ]
  },
  {
   "cell_type": "code",
   "execution_count": 99,
   "metadata": {
    "collapsed": true
   },
   "outputs": [],
   "source": [
    "dic = strip(review_biz_ED)"
   ]
  },
  {
   "cell_type": "code",
   "execution_count": 85,
   "metadata": {
    "collapsed": true
   },
   "outputs": [],
   "source": [
    "def pairs(L):\n",
    "    L = list(set(L))\n",
    "    result =[]\n",
    "    for i,a in enumerate(L):\n",
    "        if i+1 < len(L):\n",
    "            for b in L[i+1:]:\n",
    "                result.append(a+','+b)\n",
    "    return result"
   ]
  },
  {
   "cell_type": "code",
   "execution_count": 100,
   "metadata": {
    "collapsed": false
   },
   "outputs": [],
   "source": [
    "import collections as c\n",
    "pair = c.defaultdict(int)\n",
    "\n",
    "for value_list in dic.values():\n",
    "    for i in pairs(value_list):\n",
    "        pair[i] += 1"
   ]
  },
  {
   "cell_type": "code",
   "execution_count": 101,
   "metadata": {
    "collapsed": false
   },
   "outputs": [],
   "source": [
    "network = pd.DataFrame()\n",
    "network['links'] = pair.keys()\n",
    "network['weight'] = pair.values()"
   ]
  },
  {
   "cell_type": "code",
   "execution_count": 103,
   "metadata": {
    "collapsed": false
   },
   "outputs": [],
   "source": [
    "network['A'],network['B'] = network.links.str.split(',',1).str"
   ]
  },
  {
   "cell_type": "code",
   "execution_count": 104,
   "metadata": {
    "collapsed": false
   },
   "outputs": [
    {
     "data": {
      "text/html": [
       "<div>\n",
       "<table border=\"1\" class=\"dataframe\">\n",
       "  <thead>\n",
       "    <tr style=\"text-align: right;\">\n",
       "      <th></th>\n",
       "      <th>links</th>\n",
       "      <th>weight</th>\n",
       "      <th>A</th>\n",
       "      <th>B</th>\n",
       "    </tr>\n",
       "  </thead>\n",
       "  <tbody>\n",
       "    <tr>\n",
       "      <th>0</th>\n",
       "      <td>kRMmce-qdD06nm4ESno_3g,syQJzSlYZJPEBQwHO36JzQ</td>\n",
       "      <td>1</td>\n",
       "      <td>kRMmce-qdD06nm4ESno_3g</td>\n",
       "      <td>syQJzSlYZJPEBQwHO36JzQ</td>\n",
       "    </tr>\n",
       "    <tr>\n",
       "      <th>1</th>\n",
       "      <td>kRMmce-qdD06nm4ESno_3g,gPOBhJ_Brqt-OOdYhoXhlw</td>\n",
       "      <td>1</td>\n",
       "      <td>kRMmce-qdD06nm4ESno_3g</td>\n",
       "      <td>gPOBhJ_Brqt-OOdYhoXhlw</td>\n",
       "    </tr>\n",
       "    <tr>\n",
       "      <th>2</th>\n",
       "      <td>kRMmce-qdD06nm4ESno_3g,apjUK1BbswSKo5jZMuwq7A</td>\n",
       "      <td>1</td>\n",
       "      <td>kRMmce-qdD06nm4ESno_3g</td>\n",
       "      <td>apjUK1BbswSKo5jZMuwq7A</td>\n",
       "    </tr>\n",
       "    <tr>\n",
       "      <th>3</th>\n",
       "      <td>kRMmce-qdD06nm4ESno_3g,Gyu9Xu7-I5NVNDTgTUnuMA</td>\n",
       "      <td>1</td>\n",
       "      <td>kRMmce-qdD06nm4ESno_3g</td>\n",
       "      <td>Gyu9Xu7-I5NVNDTgTUnuMA</td>\n",
       "    </tr>\n",
       "    <tr>\n",
       "      <th>4</th>\n",
       "      <td>kRMmce-qdD06nm4ESno_3g,SuFx7otHdR-8nLw2sxkY0w</td>\n",
       "      <td>1</td>\n",
       "      <td>kRMmce-qdD06nm4ESno_3g</td>\n",
       "      <td>SuFx7otHdR-8nLw2sxkY0w</td>\n",
       "    </tr>\n",
       "  </tbody>\n",
       "</table>\n",
       "</div>"
      ],
      "text/plain": [
       "                                           links  weight  \\\n",
       "0  kRMmce-qdD06nm4ESno_3g,syQJzSlYZJPEBQwHO36JzQ       1   \n",
       "1  kRMmce-qdD06nm4ESno_3g,gPOBhJ_Brqt-OOdYhoXhlw       1   \n",
       "2  kRMmce-qdD06nm4ESno_3g,apjUK1BbswSKo5jZMuwq7A       1   \n",
       "3  kRMmce-qdD06nm4ESno_3g,Gyu9Xu7-I5NVNDTgTUnuMA       1   \n",
       "4  kRMmce-qdD06nm4ESno_3g,SuFx7otHdR-8nLw2sxkY0w       1   \n",
       "\n",
       "                        A                       B  \n",
       "0  kRMmce-qdD06nm4ESno_3g  syQJzSlYZJPEBQwHO36JzQ  \n",
       "1  kRMmce-qdD06nm4ESno_3g  gPOBhJ_Brqt-OOdYhoXhlw  \n",
       "2  kRMmce-qdD06nm4ESno_3g  apjUK1BbswSKo5jZMuwq7A  \n",
       "3  kRMmce-qdD06nm4ESno_3g  Gyu9Xu7-I5NVNDTgTUnuMA  \n",
       "4  kRMmce-qdD06nm4ESno_3g  SuFx7otHdR-8nLw2sxkY0w  "
      ]
     },
     "execution_count": 104,
     "metadata": {},
     "output_type": "execute_result"
    }
   ],
   "source": [
    "network.head()"
   ]
  },
  {
   "cell_type": "code",
   "execution_count": 105,
   "metadata": {
    "collapsed": false
   },
   "outputs": [],
   "source": [
    "network = network[['A','B','weight']]"
   ]
  },
  {
   "cell_type": "code",
   "execution_count": 57,
   "metadata": {
    "collapsed": false
   },
   "outputs": [
    {
     "data": {
      "text/html": [
       "<div>\n",
       "<table border=\"1\" class=\"dataframe\">\n",
       "  <thead>\n",
       "    <tr style=\"text-align: right;\">\n",
       "      <th></th>\n",
       "      <th>A</th>\n",
       "      <th>B</th>\n",
       "      <th>weight</th>\n",
       "    </tr>\n",
       "  </thead>\n",
       "  <tbody>\n",
       "    <tr>\n",
       "      <th>0</th>\n",
       "      <td>gyhCX6sBgZnckaBWFq8Gyw</td>\n",
       "      <td>Nq_BMV7kyx9_C3w0Jip6CA</td>\n",
       "      <td>1</td>\n",
       "    </tr>\n",
       "    <tr>\n",
       "      <th>1</th>\n",
       "      <td>gyhCX6sBgZnckaBWFq8Gyw</td>\n",
       "      <td>JpA3Rl0-h9digvhs52BDwA</td>\n",
       "      <td>1</td>\n",
       "    </tr>\n",
       "    <tr>\n",
       "      <th>2</th>\n",
       "      <td>gyhCX6sBgZnckaBWFq8Gyw</td>\n",
       "      <td>aFVO6hoFlOCN8pKsmJbWjw</td>\n",
       "      <td>1</td>\n",
       "    </tr>\n",
       "    <tr>\n",
       "      <th>3</th>\n",
       "      <td>gyhCX6sBgZnckaBWFq8Gyw</td>\n",
       "      <td>qZGqQUvorJbNKfv6AaWhWg</td>\n",
       "      <td>1</td>\n",
       "    </tr>\n",
       "    <tr>\n",
       "      <th>4</th>\n",
       "      <td>gyhCX6sBgZnckaBWFq8Gyw</td>\n",
       "      <td>BnlVRB0L2N62VIp4BFmGaw</td>\n",
       "      <td>2</td>\n",
       "    </tr>\n",
       "  </tbody>\n",
       "</table>\n",
       "</div>"
      ],
      "text/plain": [
       "                        A                       B  weight\n",
       "0  gyhCX6sBgZnckaBWFq8Gyw  Nq_BMV7kyx9_C3w0Jip6CA       1\n",
       "1  gyhCX6sBgZnckaBWFq8Gyw  JpA3Rl0-h9digvhs52BDwA       1\n",
       "2  gyhCX6sBgZnckaBWFq8Gyw  aFVO6hoFlOCN8pKsmJbWjw       1\n",
       "3  gyhCX6sBgZnckaBWFq8Gyw  qZGqQUvorJbNKfv6AaWhWg       1\n",
       "4  gyhCX6sBgZnckaBWFq8Gyw  BnlVRB0L2N62VIp4BFmGaw       2"
      ]
     },
     "execution_count": 57,
     "metadata": {},
     "output_type": "execute_result"
    }
   ],
   "source": [
    "network.head()"
   ]
  },
  {
   "cell_type": "code",
   "execution_count": 106,
   "metadata": {
    "collapsed": true
   },
   "outputs": [],
   "source": [
    "network.to_csv('network_ED_45stars_weighted.csv')"
   ]
  },
  {
   "cell_type": "markdown",
   "metadata": {},
   "source": [
    "# Load the data into networkx to extract networks properties"
   ]
  },
  {
   "cell_type": "code",
   "execution_count": 107,
   "metadata": {
    "collapsed": true
   },
   "outputs": [],
   "source": [
    "#loading data\n",
    "pos = pd.read_csv('network_ED_4_5stars.csv')\n",
    "neg = pd.read_csv('network_ED_12stars.csv')\n",
    "G = pd.read_csv('network_ED.csv')\n",
    "neg_w = pd.read_csv('network_ED_12stars_weighted.csv')\n",
    "pos_w = pd.read_csv('network_ED_12stars_weighted.csv')"
   ]
  },
  {
   "cell_type": "code",
   "execution_count": 108,
   "metadata": {
    "collapsed": true
   },
   "outputs": [],
   "source": [
    "# buiding graphs\n",
    "import networkx as nx\n",
    "G_pos_w = nx.Graph()\n",
    "\n",
    "for i in range(1,len(pos)):\n",
    "     G_pos_w.add_edge(pos_w['A'][i],pos_w['B'][i])\n",
    "        \n"
   ]
  },
  {
   "cell_type": "code",
   "execution_count": 109,
   "metadata": {
    "collapsed": false
   },
   "outputs": [],
   "source": [
    "#exacting properties\n",
    "bet = nx.betweenness_centrality(G_neg_w)\n",
    "degree = nx.degree(G_neg_w)\n",
    "clo = nx.closeness_centrality(G_neg_w)\n",
    "cluster = nx.clustering(G_neg_w)\n",
    "eigen = nx.eigenvector_centrality(G_neg_w)\n",
    "k_core = nx.core_number(G_neg_w)\n",
    "average_n_d = nx.average_neighbor_degree(G_neg_w)\n",
    "degree_cen = nx.degree_centrality(G_neg_w)"
   ]
  },
  {
   "cell_type": "markdown",
   "metadata": {},
   "source": [
    "# Some Visualizations of Networks"
   ]
  },
  {
   "cell_type": "code",
   "execution_count": 180,
   "metadata": {
    "collapsed": false
   },
   "outputs": [
    {
     "data": {
      "image/png": "[encoded data removed]",
      "text/plain": [
       "<matplotlib.figure.Figure at 0x130397978>"
      ]
     },
     "metadata": {},
     "output_type": "display_data"
    }
   ],
   "source": [
    "mix=nx.average_degree_connectivity(G_pos)\n",
    "\n",
    "plt.scatter(list(mix.keys()),list(mix.values()))\n",
    "plt.title(\"Mixing Pattern\")\n",
    "plt.ylabel(\"Neighbors' Average Degree of Degree K\")\n",
    "plt.xlabel(\"degree(k)\")\n",
    "#plt.ylim([-0.03,0.2])\n",
    "plt.xlim([-10,2500])\n",
    "plt.show()"
   ]
  },
  {
   "cell_type": "code",
   "execution_count": 174,
   "metadata": {
    "collapsed": false
   },
   "outputs": [
    {
     "data": {
      "text/plain": [
       "-0.065788434405594509"
      ]
     },
     "execution_count": 174,
     "metadata": {},
     "output_type": "execute_result"
    }
   ],
   "source": [
    "nx.degree_assortativity_coefficient(G_pos)"
   ]
  },
  {
   "cell_type": "code",
   "execution_count": 162,
   "metadata": {
    "collapsed": false
   },
   "outputs": [
    {
     "data": {
      "image/png": "[encoded data removed]",
      "text/plain": [
       "<matplotlib.figure.Figure at 0x131e63b38>"
      ]
     },
     "metadata": {},
     "output_type": "display_data"
    }
   ],
   "source": [
    "#cent = nx.betweenness_centrality(G_pos)\n",
    "#de = nx.degree(G_pos)\n",
    "plt.scatter(list(de.values()),list(cent.values()))\n",
    "plt.title(\"Betweenness vs Degree\")\n",
    "plt.ylabel(\"betweenness\")\n",
    "plt.xlabel(\"degree\")\n",
    "plt.ylim([-0.001,0.015])\n",
    "plt.xlim([0,2300])\n",
    "plt.show()"
   ]
  },
  {
   "cell_type": "code",
   "execution_count": 163,
   "metadata": {
    "collapsed": false
   },
   "outputs": [
    {
     "data": {
      "image/png": "[encoded data removed]",
      "text/plain": [
       "<matplotlib.figure.Figure at 0x131fce080>"
      ]
     },
     "metadata": {},
     "output_type": "display_data"
    }
   ],
   "source": [
    "#c = nx.closeness_centrality(G_pos)\n",
    "plt.scatter(list(de.values()),list(c.values()))\n",
    "plt.title(\"Closeness vs Degree\")\n",
    "plt.ylabel(\"closeness\")\n",
    "plt.xlabel(\"degree\")\n",
    "plt.ylim([-0.05,0.8])\n",
    "plt.xlim([-50,2300])\n",
    "plt.show()"
   ]
  },
  {
   "cell_type": "code",
   "execution_count": 142,
   "metadata": {
    "collapsed": false
   },
   "outputs": [
    {
     "data": {
      "image/png": "[encoded data removed]",
      "text/plain": [
       "<matplotlib.figure.Figure at 0x1319d8898>"
      ]
     },
     "metadata": {},
     "output_type": "display_data"
    }
   ],
   "source": [
    "import seaborn as sns\n",
    "degree_sequence_pos=sorted(nx.degree(G_pos).values(),reverse=True) # degree sequence\n",
    "degree_sequence_neg=sorted(nx.degree(G_neg).values(),reverse=True)\n",
    "degree_sequence_neg_w = sorted(nx.degree(G_neg_w).values(),reverse=True)\n",
    "degree_sequence_pos_w = sorted(nx.degree(G_pos_w).values(),reverse=True)\n",
    "\n",
    "#print \"Degree sequence\", degree_sequence\n",
    "dmax_pos=max(degree_sequence_pos)\n",
    "\n",
    "plt.loglog(degree_sequence_pos,'r-',marker='o',label='positive networks')\n",
    "plt.loglog(degree_sequence_neg,'b-',marker='o',label ='negative networks')\n",
    "#plt.loglog(degree_sequence_neg_w,'b-',marker='o')\n",
    "#plt.loglog(degree_sequence_pos_w,'b-',marker='o')\n",
    "\n",
    "plt.title(\"Degree Frequency\")\n",
    "plt.ylabel(\"Count\")\n",
    "plt.xlabel(\"Degree\")\n",
    "plt.legend(loc=3)\n",
    "plt.show()"
   ]
  },
  {
   "cell_type": "code",
   "execution_count": 261,
   "metadata": {
    "collapsed": false
   },
   "outputs": [
    {
     "data": {
      "image/png": "[encoded data removed]",
      "text/plain": [
       "<matplotlib.figure.Figure at 0x175d7cd30>"
      ]
     },
     "metadata": {},
     "output_type": "display_data"
    }
   ],
   "source": [
    "degree_sequence_neg=sorted(nx.degree(G_neg).values(),reverse=True) # degree sequence\n",
    "#print \"Degree sequence\", degree_sequence\n",
    "dmax_neg=max(degree_sequence_neg)\n",
    "\n",
    "plt.loglog(degree_sequence_neg,'b-',marker='o')\n",
    "plt.title(\"Degree rank plot\")\n",
    "plt.ylabel(\"degree\")\n",
    "plt.xlabel(\"count\")\n",
    "plt.show()"
   ]
  },
  {
   "cell_type": "code",
   "execution_count": 186,
   "metadata": {
    "collapsed": false
   },
   "outputs": [
    {
     "data": {
      "text/plain": [
       "<matplotlib.text.Text at 0x131989668>"
      ]
     },
     "execution_count": 186,
     "metadata": {},
     "output_type": "execute_result"
    },
    {
     "data": {
      "image/png": "[encoded data removed]",
      "text/plain": [
       "<matplotlib.figure.Figure at 0x13069f4a8>"
      ]
     },
     "metadata": {},
     "output_type": "display_data"
    }
   ],
   "source": [
    "project_networks_45stars.cluster.hist()\n",
    "plt.title('Histogram of Clustering coefficient')\n",
    "plt.xlabel('Clustering coefficient')\n",
    "plt.ylabel('Frequency')"
   ]
  },
  {
   "cell_type": "code",
   "execution_count": 190,
   "metadata": {
    "collapsed": false
   },
   "outputs": [
    {
     "data": {
      "text/plain": [
       "(0.6853195621266083, 0.6560829241680306)"
      ]
     },
     "execution_count": 190,
     "metadata": {},
     "output_type": "execute_result"
    }
   ],
   "source": [
    "project_networks_45stars.cluster.mean(),project_networks_45stars.cluster.median()"
   ]
  },
  {
   "cell_type": "code",
   "execution_count": 234,
   "metadata": {
    "collapsed": false
   },
   "outputs": [
    {
     "data": {
      "image/png": "[encoded data removed]",
      "text/plain": [
       "<matplotlib.figure.Figure at 0x1303ed1d0>"
      ]
     },
     "metadata": {},
     "output_type": "display_data"
    }
   ],
   "source": [
    "from scipy.stats import norm\n",
    "import matplotlib.mlab as mlab\n",
    "import matplotlib.pyplot as plt\n",
    "\n",
    "\n",
    "\n",
    "\n",
    "# best fit of data\n",
    "(mu, sigma) = norm.fit(a)\n",
    "\n",
    "# the histogram of the data\n",
    "n, bins, patches = plt.hist(a, 10,normed=1 ,facecolor='green', alpha=0.75)\n",
    "\n",
    "# add a 'best fit' line\n",
    "y = mlab.normpdf( bins, mu, sigma)\n",
    "l = plt.plot(bins, y, 'r--', linewidth=2)\n",
    "\n",
    "#plot\n",
    "plt.xlabel('Cluster Coefficient')\n",
    "plt.ylabel('Probability')\n",
    "plt.title(r'$\\mathrm{Histogram\\ of\\ Clustering\\ Coefficient :}\\ \\mu=%.3f,\\ \\sigma=%.3f$' %(mu, sigma))\n",
    "plt.grid(True)\n",
    "\n",
    "plt.show()"
   ]
  },
  {
   "cell_type": "code",
   "execution_count": 235,
   "metadata": {
    "collapsed": false
   },
   "outputs": [
    {
     "data": {
      "image/png": "[encoded data removed]",
      "text/plain": [
       "<matplotlib.figure.Figure at 0x1318b8ef0>"
      ]
     },
     "metadata": {},
     "output_type": "display_data"
    }
   ],
   "source": [
    "from scipy.stats import norm\n",
    "import matplotlib.mlab as mlab\n",
    "import matplotlib.pyplot as plt\n",
    "\n",
    "\n",
    "\n",
    "\n",
    "# best fit of data\n",
    "(mu, sigma) = norm.fit(b)\n",
    "\n",
    "# the histogram of the data\n",
    "n, bins, patches = plt.hist(b, 10, normed=1, facecolor='green', alpha=0.75)\n",
    "\n",
    "# add a 'best fit' line\n",
    "y = mlab.normpdf( bins, mu, sigma)\n",
    "l = plt.plot(bins, y, 'r--', linewidth=2)\n",
    "\n",
    "#plot\n",
    "plt.xlabel('Cluster Coefficient')\n",
    "plt.ylabel('Probability')\n",
    "plt.title(r'$\\mathrm{Clustering\\ Coefficient\\ without\\ Tails:}\\ \\mu=%.3f,\\ \\sigma=%.3f$' %(mu, sigma))\n",
    "plt.grid(True)\n",
    "\n",
    "plt.show()"
   ]
  },
  {
   "cell_type": "code",
   "execution_count": 214,
   "metadata": {
    "collapsed": false
   },
   "outputs": [],
   "source": [
    "a=sorted(list(project_networks_45stars.cluster))\n",
    "\n",
    "b=a[140:len(a)-800]"
   ]
  },
  {
   "cell_type": "code",
   "execution_count": 216,
   "metadata": {
    "collapsed": true
   },
   "outputs": [],
   "source": [
    "c = []\n",
    "\n",
    "for bi in b :\n",
    "    c.append((bi - np.mean(b))/np.std(b))"
   ]
  },
  {
   "cell_type": "code",
   "execution_count": 217,
   "metadata": {
    "collapsed": false
   },
   "outputs": [
    {
     "data": {
      "text/plain": [
       "KstestResult(statistic=0.041960775224685332, pvalue=0.0018914043277402648)"
      ]
     },
     "execution_count": 217,
     "metadata": {},
     "output_type": "execute_result"
    }
   ],
   "source": [
    "from scipy import stats\n",
    "\n",
    "stats.kstest(c, 'norm')"
   ]
  },
  {
   "cell_type": "markdown",
   "metadata": {},
   "source": [
    "# Network Graph"
   ]
  },
  {
   "cell_type": "code",
   "execution_count": 198,
   "metadata": {
    "collapsed": true
   },
   "outputs": [],
   "source": [
    "import networkx as nx\n",
    "#from network_analysis import graph_analysis as GA\n",
    "\n",
    "G=nx.Graph()\n",
    "\n",
    "for i in range(1,len(network)):\n",
    "     G.add_edge(network['A'][i],network['B'][i])"
   ]
  },
  {
   "cell_type": "code",
   "execution_count": 199,
   "metadata": {
    "collapsed": true
   },
   "outputs": [],
   "source": [
    "bet = nx.betweenness_centrality(G)\n",
    "degree = nx.degree(G)\n",
    "clo = nx.closeness_centrality(G)\n",
    "cluster = nx.clustering(G)\n",
    "eigen = nx.eigenvector_centrality(G)\n",
    "k_core = nx.core_number(G)\n",
    "average_n_d = nx.average_neighbor_degree(G)\n",
    "degree_cen = nx.degree_centrality(G)"
   ]
  },
  {
   "cell_type": "code",
   "execution_count": 110,
   "metadata": {
    "collapsed": true
   },
   "outputs": [],
   "source": [
    "key=[]\n",
    "for k in bet.keys():\n",
    "    key.append(k)\n",
    "\n",
    "dic = {'business_id':key ,\n",
    "         'bet':key,\n",
    "         'degree':key,\n",
    "       'deg_cen':key,\n",
    "        'clo':key,\n",
    "         'cluster':key,\n",
    "       #'eigen':key,\n",
    "       'k_core':key,\n",
    "       'avg_n_d':key\n",
    "       \n",
    "       \n",
    "      }\n",
    "df = pd.DataFrame.from_dict(dic)"
   ]
  },
  {
   "cell_type": "code",
   "execution_count": 111,
   "metadata": {
    "collapsed": true
   },
   "outputs": [],
   "source": [
    "for i in range(0,len(df)):\n",
    "    df['degree'][i] = degree[df.business_id[i]]\n",
    "    df['bet'][i] = bet[df.business_id[i]]\n",
    "    df['deg_cen'][i] = degree_cen[df.business_id[i]]\n",
    "    df['clo'][i] = clo[df.business_id[i]]\n",
    "    df['cluster'][i] = cluster[df.business_id[i]]\n",
    "    #df['eigen'][i] = eigen[df.business_id[i]]\n",
    "    df['k_core'][i] = k_core[df.business_id[i]]\n",
    "    df['avg_n_d'][i] = average_n_d[df.business_id[i]]\n",
    "    "
   ]
  },
  {
   "cell_type": "code",
   "execution_count": 112,
   "metadata": {
    "collapsed": true
   },
   "outputs": [],
   "source": [
    "df = df.merge(biz[['business_id','open']],on='business_id',how='left')\n",
    "df= df[['business_id',\n",
    "         'bet',\n",
    "         'degree',\n",
    "       'deg_cen',\n",
    "        'clo',\n",
    "         'cluster',\n",
    "       #'eigen',\n",
    "       'k_core',\n",
    "       'avg_n_d',\n",
    "       'open']]"
   ]
  },
  {
   "cell_type": "code",
   "execution_count": 108,
   "metadata": {
    "collapsed": false
   },
   "outputs": [
    {
     "data": {
      "text/plain": [
       "<matplotlib.axes._subplots.AxesSubplot at 0x11aacc048>"
      ]
     },
     "execution_count": 108,
     "metadata": {},
     "output_type": "execute_result"
    },
    {
     "data": {
      "image/png": "[encoded data removed]",
      "text/plain": [
       "<matplotlib.figure.Figure at 0x11aae72e8>"
      ]
     },
     "metadata": {},
     "output_type": "display_data"
    }
   ],
   "source": [
    "#correlation of networks properties\n",
    "sns.heatmap(data.corr(method='kendall'))"
   ]
  },
  {
   "cell_type": "markdown",
   "metadata": {},
   "source": [
    "\n"
   ]
  }
 ],
 "metadata": {
  "kernelspec": {
   "display_name": "Python 3",
   "language": "python",
   "name": "python3"
  },
  "language_info": {
   "codemirror_mode": {
    "name": "ipython",
    "version": 3
   },
   "file_extension": ".py",
   "mimetype": "text/x-python",
   "name": "python",
   "nbconvert_exporter": "python",
   "pygments_lexer": "ipython3",
   "version": "3.6.0"
  }
 },
 "nbformat": 4,
 "nbformat_minor": 2
}
